{
 "cells": [
  {
   "cell_type": "code",
   "execution_count": 28,
   "id": "cdcb7dec",
   "metadata": {},
   "outputs": [
    {
     "data": {
      "text/plain": [
       "True"
      ]
     },
     "execution_count": 28,
     "metadata": {},
     "output_type": "execute_result"
    }
   ],
   "source": [
    "from agents import Agent, Runner, function_tool\n",
    "from dotenv import load_dotenv\n",
    "import openai\n",
    "import os\n",
    "\n",
    "load_dotenv()"
   ]
  },
  {
   "cell_type": "code",
   "execution_count": 20,
   "id": "fdb93557",
   "metadata": {},
   "outputs": [],
   "source": [
    "openai_api_key = os.getenv(\"OPENAI_API_KEY\")"
   ]
  },
  {
   "cell_type": "code",
   "execution_count": 21,
   "id": "412a034d",
   "metadata": {},
   "outputs": [],
   "source": [
    "openai.api_key = openai_api_key"
   ]
  },
  {
   "cell_type": "code",
   "execution_count": 23,
   "id": "5a1791f7",
   "metadata": {},
   "outputs": [],
   "source": [
    "casual_agent = Agent(\n",
    "    model=\"gpt-4o-mini\",\n",
    "    name=\"Casual Agent\",\n",
    "    instructions=\"You are a casual sales agent that generates leads for Mosaiqlabs. Your goal is to generate casual email leads for products sales at Mosaiqlabs.\",\n",
    ")\n"
   ]
  },
  {
   "cell_type": "code",
   "execution_count": 24,
   "id": "0d67692c",
   "metadata": {},
   "outputs": [],
   "source": [
    "professional_agent = Agent(\n",
    "    model=\"gpt-4o-mini\",\n",
    "    name=\"Professional Agent\",\n",
    "    instructions=\"You are a professional sales agent that generates leads for Mosaiqlabs. Your goal is to generate professional email leads for products sales at Mosaiqlabs.\",\n",
    ")"
   ]
  },
  {
   "cell_type": "code",
   "execution_count": 25,
   "id": "6c5cb6e2",
   "metadata": {},
   "outputs": [],
   "source": [
    "text_to_html_agent = Agent(\n",
    "    model=\"gpt-4o-mini\",\n",
    "    name=\"Text to HTML Agent\",\n",
    "    instructions=\"You are a text to HTML agent that converts text to HTML. Your goal is to convert email inform of a text to html for a newsletter. You will be provided with an email inform of a text, you goal is to only and only convert this text to html format.\",\n",
    ")\n"
   ]
  },
  {
   "cell_type": "code",
   "execution_count": 26,
   "id": "6a81faa9",
   "metadata": {},
   "outputs": [],
   "source": [
    "email_subject_generator_agent = Agent(\n",
    "    model=\"gpt-4o-mini\",\n",
    "    name=\"Email Subject Generator Agent\",\n",
    "    instructions=\"You are a email subject generator agent that generates email subject for a newsletter. You will be provided with a newsletter, you goal is to generate a catchy and engaging subject for the newsletter that will make people want to read it.\",\n",
    ")\n",
    "\n"
   ]
  },
  {
   "cell_type": "code",
   "execution_count": 27,
   "id": "91908001",
   "metadata": {},
   "outputs": [],
   "source": [
    "email_picker_agent = Agent(\n",
    "    model=\"gpt-4o-mini\",\n",
    "    name=\"Email Picker Agent\",\n",
    "    instructions=\"You are a email picker agent that picks the best email from a list of emails. You will be provided with a list of emails, you goal is to pick the best email from the list. and return the best email from the list.\",\n",
    ")\n",
    "\n"
   ]
  },
  {
   "cell_type": "code",
   "execution_count": null,
   "id": "08438595",
   "metadata": {},
   "outputs": [],
   "source": [
    "@function_tool\n",
    "def send_email(email: str, subject: str, html_content: str):\n",
    "    \"\"\"Send an email to the given email address with the given subject and html content.\"\"\"\n",
    "    print(f\"Sending email to {email} with subject {subject} and html content {html_content}\")\n"
   ]
  },
  {
   "cell_type": "code",
   "execution_count": 36,
   "id": "29272aa2",
   "metadata": {},
   "outputs": [],
   "source": [
    "email_curation_tools = [professional_agent.as_tool(tool_name=\"professional_agent\", tool_description=\"Generate professional email leads for products sales at Mosaiqlabs.\"), casual_agent.as_tool(tool_name=\"casual_agent\", tool_description=\"Generate casual email leads for products sales at Mosaiqlabs.\"), email_picker_agent.as_tool(tool_name=\"email_picker_agent\", tool_description=\"Pick the best email from a list of emails.\")]"
   ]
  },
  {
   "cell_type": "code",
   "execution_count": 35,
   "id": "0903a911",
   "metadata": {},
   "outputs": [],
   "source": [
    "send_email_tools = [text_to_html_agent.as_tool(tool_name=\"text_to_html_agent\", tool_description=\"Convert email text to html format.\"), email_subject_generator_agent.as_tool(tool_name=\"email_subject_generator_agent\", tool_description=\"Generate email subject for a newsletter.\"), send_email]"
   ]
  },
  {
   "cell_type": "code",
   "execution_count": 37,
   "id": "a88a809d",
   "metadata": {},
   "outputs": [],
   "source": [
    "send_email_agent = Agent(\n",
    "    model=\"gpt-4o-mini\",\n",
    "    name=\"Send Email Agent\",\n",
    "    instructions=\"You are a send email agent that sends an email to the given email address with the given subject and html content. You have access to the tools you need to send the email. use the text to html agent to convert the email text to html format. and use the email subject generator agent to generate the subject for the email. and use the send email tool to send the email.\",\n",
    "    tools=send_email_tools,\n",
    ")\n"
   ]
  },
  {
   "cell_type": "code",
   "execution_count": 40,
   "id": "6b2dc983",
   "metadata": {},
   "outputs": [],
   "source": [
    "curate_email_agent = Agent(\n",
    "    model=\"gpt-4o-mini\",\n",
    "    name=\"Curation Agent\",\n",
    "    instructions=\"You are the head of the sales team at Mosaiqlabs. You are responsible for overseeing the sales process. You have access to the different tools and make sure you only use the tools avaliable to you and don't try to generate anything on your own. YOu have access to the tools to generate both the professional and casual emails. use the email picker tool to pick the best email out of the two emails. and handsoff the email sending process to the send email agent TO FINALIZE.\",\n",
    "    tools=email_curation_tools,\n",
    "    handoffs=[send_email_agent],\n",
    ")\n"
   ]
  },
  {
   "cell_type": "code",
   "execution_count": null,
   "id": "8f2d7c98",
   "metadata": {},
   "outputs": [],
   "source": [
    "response = await Runner.run(curate_email_agent, \"Generate a professional and casual email for a newsletter about the latest trends in the tech industry.\")\n",
    "\n",
    "print(response.final_output)"
   ]
  }
 ],
 "metadata": {
  "kernelspec": {
   "display_name": ".venv",
   "language": "python",
   "name": "python3"
  },
  "language_info": {
   "codemirror_mode": {
    "name": "ipython",
    "version": 3
   },
   "file_extension": ".py",
   "mimetype": "text/x-python",
   "name": "python",
   "nbconvert_exporter": "python",
   "pygments_lexer": "ipython3",
   "version": "3.12.7"
  }
 },
 "nbformat": 4,
 "nbformat_minor": 5
}
